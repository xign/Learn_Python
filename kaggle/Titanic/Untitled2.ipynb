{
 "cells": [
  {
   "cell_type": "code",
   "execution_count": 180,
   "metadata": {
    "collapsed": false
   },
   "outputs": [
    {
     "name": "stdout",
     "output_type": "stream",
     "text": [
      "    Age     Fare     Sex\n",
      "0  34.5   7.8292    male\n",
      "1  47.0   7.0000  female\n",
      "2  62.0   9.6875    male\n",
      "3  27.0   8.6625    male\n",
      "4  22.0  12.2875  female\n",
      "30.2725903614\n",
      "   Age     Fare     Sex\n",
      "1   47   7.0000  female\n",
      "2   62   9.6875    male\n",
      "3   27   8.6625    male\n",
      "4   22  12.2875  female\n",
      "5   14   9.2250    male\n"
     ]
    }
   ],
   "source": [
    "class Preprogressing():\n",
    "    def __init__(self, input):\n",
    "        import pandas as pd\n",
    "        self.L1 = input\n",
    "        print self.data().head(5)\n",
    "        print self.get_useful_pionts()[0]\n",
    "        print self.get_useful_pionts()[1].head(5)\n",
    "    def data(self):\n",
    "        Data_L1 = pd.DataFrame({'Age':self.L1['Age'],'Sex':self.L1['Sex'],'Fare':self.L1['Fare']})\n",
    "        return Data_L1\n",
    "    def get_useful_pionts(self):\n",
    "        mean = self.data()['Age'].mean()\n",
    "        Data_L2 = self.data()[1:]\n",
    "        return (mean,Data_L2)\n",
    "\n",
    "if __name__==\"__main__\":\n",
    "    a = pd.read_csv(\"test.csv\")\n",
    "    Preprogressing(a)"
   ]
  },
  {
   "cell_type": "code",
   "execution_count": null,
   "metadata": {
    "collapsed": false
   },
   "outputs": [],
   "source": []
  },
  {
   "cell_type": "code",
   "execution_count": null,
   "metadata": {
    "collapsed": true
   },
   "outputs": [],
   "source": []
  }
 ],
 "metadata": {
  "kernelspec": {
   "display_name": "Python 2",
   "language": "python",
   "name": "python2"
  },
  "language_info": {
   "codemirror_mode": {
    "name": "ipython",
    "version": 2
   },
   "file_extension": ".py",
   "mimetype": "text/x-python",
   "name": "python",
   "nbconvert_exporter": "python",
   "pygments_lexer": "ipython2",
   "version": "2.7.9"
  }
 },
 "nbformat": 4,
 "nbformat_minor": 0
}
